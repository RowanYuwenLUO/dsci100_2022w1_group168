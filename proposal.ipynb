{
 "cells": [
  {
   "cell_type": "markdown",
   "id": "2a6f85ce-f01f-4c80-b49b-b24bb5f6cdff",
   "metadata": {},
   "source": [
    "## DSCI100 Group 168 Proposal"
   ]
  },
  {
   "cell_type": "code",
   "execution_count": null,
   "id": "a4b08fcb-fbe1-44a9-89d2-69c5068fc046",
   "metadata": {},
   "outputs": [],
   "source": []
  }
 ],
 "metadata": {
  "kernelspec": {
   "display_name": "R",
   "language": "R",
   "name": "ir"
  },
  "language_info": {
   "codemirror_mode": "r",
   "file_extension": ".r",
   "mimetype": "text/x-r-source",
   "name": "R",
   "pygments_lexer": "r",
   "version": "4.1.3"
  }
 },
 "nbformat": 4,
 "nbformat_minor": 5
}
